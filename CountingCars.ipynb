{
  "nbformat": 4,
  "nbformat_minor": 0,
  "metadata": {
    "colab": {
      "name": "CountingCars.ipynb",
      "version": "0.3.2",
      "provenance": [],
      "collapsed_sections": [],
      "include_colab_link": true
    },
    "kernelspec": {
      "name": "python3",
      "display_name": "Python 3"
    },
    "accelerator": "GPU"
  },
  "cells": [
    {
      "cell_type": "markdown",
      "metadata": {
        "id": "view-in-github",
        "colab_type": "text"
      },
      "source": [
        "<a href=\"https://colab.research.google.com/github/maoroh/keras-frcnn/blob/master/CountingCars.ipynb\" target=\"_parent\"><img src=\"https://colab.research.google.com/assets/colab-badge.svg\" alt=\"Open In Colab\"/></a>"
      ]
    },
    {
      "metadata": {
        "id": "I3ibklzgHAna",
        "colab_type": "code",
        "colab": {
          "base_uri": "https://localhost:8080/",
          "height": 119
        },
        "outputId": "79b968d0-551a-4820-9144-b22a5d4b74d6"
      },
      "cell_type": "code",
      "source": [
        "!wget "
      ],
      "execution_count": 3,
      "outputs": [
        {
          "output_type": "stream",
          "text": [
            "--2019-02-02 16:54:00--  https://drive.google.com/uc?export=download\n",
            "Resolving drive.google.com (drive.google.com)... 74.125.70.138, 74.125.70.101, 74.125.70.102, ...\n",
            "Connecting to drive.google.com (drive.google.com)|74.125.70.138|:443... connected.\n",
            "HTTP request sent, awaiting response... 400 Bad Request\n",
            "2019-02-02 16:54:00 ERROR 400: Bad Request.\n",
            "\n"
          ],
          "name": "stdout"
        }
      ]
    },
    {
      "metadata": {
        "id": "XkdDzg7rDM0d",
        "colab_type": "code",
        "colab": {}
      },
      "cell_type": "code",
      "source": [
        "\n",
        "!git clone https://github.com/maoroh/keras-frcnn.git\n",
        "\n",
        "%cd /content/keras-frcnn\n",
        "%mkdir model"
      ],
      "execution_count": 0,
      "outputs": []
    },
    {
      "metadata": {
        "id": "QmJlmuRsC9lN",
        "colab_type": "code",
        "colab": {}
      },
      "cell_type": "code",
      "source": [
        "!wget http://139.59.179.174/cars_last_model.hdf5 -O model/cars_last_model.hdf5\n",
        "!wget http://139.59.179.174/resnet50_weights_tf_dim_ordering_tf_kernels.h5 -O model/resnet50_weights_tf_dim_ordering_tf_kernels.h5"
      ],
      "execution_count": 0,
      "outputs": []
    },
    {
      "metadata": {
        "id": "oBH6O7dx23hy",
        "colab_type": "text"
      },
      "cell_type": "markdown",
      "source": [
        "**Install Keras 2.0.3 instead of 2.2.4 **"
      ]
    },
    {
      "metadata": {
        "id": "I3q6vCFBKIaR",
        "colab_type": "code",
        "colab": {}
      },
      "cell_type": "code",
      "source": [
        "!pip install keras==2.0.3"
      ],
      "execution_count": 0,
      "outputs": []
    },
    {
      "metadata": {
        "id": "waj28JO9HUzx",
        "colab_type": "text"
      },
      "cell_type": "markdown",
      "source": [
        "**Generate the annotations file from CARPK dataset**"
      ]
    },
    {
      "metadata": {
        "id": "qzGaZj342WC6",
        "colab_type": "code",
        "colab": {}
      },
      "cell_type": "code",
      "source": [
        "import os\n",
        "import glob\n",
        "class AnnotationFileGenerator:\n",
        "    def __init__(self,path_to_annotations_folder, images_path,output_file):\n",
        "        self.path_to_annotations_folder = path_to_annotations_folder\n",
        "        self.images_path = images_path\n",
        "        self.output_file = output_file\n",
        "\n",
        "    def generate(self):\n",
        "        with open(self.output_file, 'r') as train_file:\n",
        "            train_file_content = train_file.readlines()\n",
        "            train_files_list = [x.strip() for x in train_file_content] \n",
        "            print(train_files_list)\n",
        "          \n",
        "        files_list = glob.glob(self.path_to_annotations_folder + '/*.txt')\n",
        "        with open('./data/' + \"train.txt\", 'w+') as converted_file:\n",
        "            for f in files_list:\n",
        "                with open(f,'r') as original_file:\n",
        "                    file_name = os.path.basename(f).split('.')[0]\n",
        "                    if file_name in train_files_list:\n",
        "                       \n",
        "                        for line in original_file:\n",
        "                            #split the line according spaces\n",
        "                            converted_file.write(self.images_path + file_name + '.png,')\n",
        "                            converted_file.write(self.convert_line(line))\n",
        "                            converted_file.write('\\n')\n",
        "                            \n",
        "                            \n",
        "                        \n",
        "\n",
        "    def convert_line(self,line):\n",
        "        line_split = line.strip().split(' ')\n",
        "        #taking all details for the bounding box\n",
        "        (x1, y1, x2, y2, class_name) = line_split\n",
        "        line_print = x1+','+y1+','+x2+','+y2+','+'Car'\n",
        "        return line_print + ' '\n",
        "\n",
        "parser = AnnotationFileGenerator(path_to_annotations_folder = './CARPK_devkit/data/Annotations',images_path = './datasets/CARPK_devkit/data/Images/',output_file = './data/train.txt')\n",
        "parser.generate()"
      ],
      "execution_count": 0,
      "outputs": []
    },
    {
      "metadata": {
        "id": "xTHYglRvHi-5",
        "colab_type": "text"
      },
      "cell_type": "markdown",
      "source": [
        "**Create a dictionary for dataset images and then use it in test phase **"
      ]
    },
    {
      "metadata": {
        "id": "YP9ZcIINC0NR",
        "colab_type": "code",
        "outputId": "d1ac16fb-edd7-4b62-f57b-404490c06d6d",
        "colab": {
          "base_uri": "https://localhost:8080/",
          "height": 34
        }
      },
      "cell_type": "code",
      "source": [
        "\n",
        "import glob\n",
        "import os\n",
        "class ImagesDict:\n",
        "    def __init__(self, path_to_dataset_folder):\n",
        "        self.path_to_dataset_folder = path_to_dataset_folder\n",
        "        self.parser_dict = {}\n",
        "    \n",
        "    def parseAll(self):\n",
        "        self.parseAnnotations()\n",
        "        self.parseImageSets()\n",
        "        return self.parser_dict\n",
        "\n",
        "    #Parsing the image set for each image\n",
        "    def parseImageSets(self):\n",
        "        #Read train.txt file\n",
        "        with open(self.path_to_dataset_folder + '/ImageSets/train.txt','r') as train_file:\n",
        "            t = [line[:-1] for line in train_file]\n",
        "            for train_file_name in t:\n",
        "                self.parser_dict[train_file_name]['imageset'] = 'train'\n",
        "         #Read test.txt file       \n",
        "        with open(self.path_to_dataset_folder + '/ImageSets/test.txt','r') as test_file:\n",
        "            t = [line[:-1] for line in test_file]\n",
        "            for train_file_name in t:\n",
        "                self.parser_dict[train_file_name]['imageset'] = 'test'\n",
        "       \n",
        "    def parseAnnotations(self):\n",
        "        #Getting all file paths\n",
        "        files_list = glob.glob(self.path_to_dataset_folder + '/Annotations/*.txt')\n",
        "       \n",
        "        #Loop over all files\n",
        "        for f in files_list :\n",
        "            #Getting file name\n",
        "            file_name = os.path.splitext(os.path.basename(f))[0]\n",
        "    \n",
        "            #init dictionary for this file\n",
        "            self.parser_dict[file_name] = {}\n",
        "            #open file in read mode\n",
        "            with open(f,'r') as file:\n",
        "                #count lines\n",
        "                data = file.read()\n",
        "                self.parser_dict[file_name]['count']  = len(data.split('\\n')) - 1\n",
        "                \n",
        "                \n",
        "\n",
        "basicParser = ImagesDict(path_to_dataset_folder='./datasets/CARPK_devkit/data')\n",
        "dict = basicParser.parseAll()\n",
        "print('Dictionary creation completed!')\n",
        "\n",
        "   "
      ],
      "execution_count": 0,
      "outputs": [
        {
          "output_type": "stream",
          "text": [
            "{'count': 4, 'imageset': 'train'}\n"
          ],
          "name": "stdout"
        }
      ]
    },
    {
      "metadata": {
        "id": "wRGhf2nlwO01",
        "colab_type": "code",
        "outputId": "d066c3d1-151e-4eaa-8fd6-9cb706c5fa49",
        "colab": {
          "base_uri": "https://localhost:8080/",
          "height": 221
        }
      },
      "cell_type": "code",
      "source": [
        "!python train.py\n"
      ],
      "execution_count": 0,
      "outputs": [
        {
          "output_type": "stream",
          "text": [
            "[Errno 2] No such file or directory: '/content/gdrive/My Drive/keras_frcnn'\n",
            "/content/keras-frcnn\n",
            "Using TensorFlow backend.\n",
            "Parsing annotation files\n",
            "Traceback (most recent call last):\n",
            "  File \"train.py\", line 256, in <module>\n",
            "    train_kitti()\n",
            "  File \"train.py\", line 38, in train_kitti\n",
            "    all_images, classes_count, class_mapping = get_data(cfg.simple_label_file)\n",
            "  File \"/content/keras-frcnn/keras_frcnn/simple_parser.py\", line 41, in get_data\n",
            "    (rows, cols) = img.shape[:2]\n",
            "AttributeError: 'NoneType' object has no attribute 'shape'\n"
          ],
          "name": "stdout"
        }
      ]
    },
    {
      "metadata": {
        "id": "QSIBn4wvI9rh",
        "colab_type": "code",
        "outputId": "2dfda165-1526-4ec7-8246-76cc866cd7c4",
        "colab": {
          "base_uri": "https://localhost:8080/",
          "height": 34
        }
      },
      "cell_type": "code",
      "source": [
        "%cd /content/gdrive/'My Drive'/keras_frcnn\n",
        "#!python main.py\n"
      ],
      "execution_count": 0,
      "outputs": [
        {
          "output_type": "stream",
          "text": [
            "/content/gdrive/My Drive/keras_frcnn\n"
          ],
          "name": "stdout"
        }
      ]
    },
    {
      "metadata": {
        "id": "dbte3pb22COd",
        "colab_type": "text"
      },
      "cell_type": "markdown",
      "source": [
        "**Test Phase - Calc MAE And RMSE** "
      ]
    },
    {
      "metadata": {
        "id": "Tq3dE-IOoqie",
        "colab_type": "code",
        "colab": {}
      },
      "cell_type": "code",
      "source": [
        "from detector import FasterRCNNDetector\n",
        "import cv2\n",
        "import math\n",
        "\n",
        "def main():\n",
        "    mae = 0.0\n",
        "    rmse = 0.0\n",
        "    #Create Detector object\n",
        "    detector = FasterRCNNDetector(model_path='../cars_last_model.hdf5')\n",
        "    count = 0\n",
        "    \n",
        "    for key, value in dict.items():\n",
        "      print(key)\n",
        "      if(value['imageset'] == 'test'):\n",
        "          count = count + 1\n",
        "          test_predict_count = value['count']\n",
        "          #Read an Image from the dataset\n",
        "          img = cv2.imread('./datasets/CARPK_devkit/data/Images/' + key + '.png') \n",
        "          predicted_boxes = detector.detect_on_image(img)\n",
        "          actual_predict_count = len(predicted_boxes[0])\n",
        "          error = abs(test_predict_count - actual_predict_count)\n",
        "          mae = mae + error\n",
        "          rmse = rmse + pow(error,2) \n",
        "          print(actual_predict_count)\n",
        "          print(test_predict_count)\n",
        "    \n",
        "    mae = mae / count\n",
        "    rmse = math.sqrt((rmse / count))\n",
        "    print(\"MAE is : \")\n",
        "    print (mae)\n",
        "    print(\"RMSE is : \")\n",
        "    print (rmse)\n",
        "\n",
        "\n",
        "if __name__ == '__main__':\n",
        "    main()"
      ],
      "execution_count": 0,
      "outputs": []
    },
    {
      "metadata": {
        "id": "MQN20cwfoy5-",
        "colab_type": "code",
        "outputId": "9e58cba7-bd91-4335-f0b6-e9b44dd7436f",
        "colab": {
          "base_uri": "https://localhost:8080/",
          "height": 1397
        }
      },
      "cell_type": "code",
      "source": [
        "\n",
        "\n",
        "from detector import FasterRCNNDetector\n",
        "import cv2\n",
        "\n",
        "\n",
        "def main():\n",
        "    mae = 0.0\n",
        "    detector = FasterRCNNDetector(model_path='./model/cars_last_model.hdf5')\n",
        "    img = cv2.imread('./datasets/CARPK_devkit/data/Images/20161030_GF2_00146.png') \n",
        "    detector.detect_on_image(img)\n",
        "         \n",
        "\n",
        "\n",
        "if __name__ == '__main__':\n",
        "    main()"
      ],
      "execution_count": 0,
      "outputs": [
        {
          "output_type": "stream",
          "text": [
            "NOTE: this code only support to keras 2.0.3, newest version this line will got errors. see trace back.\n",
            "Loading weights from ./model/cars_last_model.hdf5\n",
            "Car:\n",
            "[556. 115. 595. 191.] prob: 0.9998986721038818\n",
            "[ 979.  383. 1017.  479.] prob: 0.9997758269309998\n",
            "[  0. 364.  57. 460.] prob: 0.9997631907463074\n",
            "[364. 383. 403. 479.] prob: 0.9997407793998718\n",
            "[1113.  633. 1171.  710.] prob: 0.9996166229248047\n",
            "[710. 115. 748. 211.] prob: 0.9996045231819153\n",
            "[518. 383. 556. 460.] prob: 0.9996015429496765\n",
            "[518. 115. 556. 211.] prob: 0.9995449185371399\n",
            "[364. 633. 403. 710.] prob: 0.9994833469390869\n",
            "[326. 633. 364. 710.] prob: 0.9994714856147766\n",
            "[844. 383. 883. 479.] prob: 0.9994235038757324\n",
            "[748. 115. 787. 211.] prob: 0.999276340007782\n",
            "[940. 134. 979. 230.] prob: 0.9991568326950073\n",
            "[ 979.  134. 1017.  211.] prob: 0.9990673661231995\n",
            "[1151.  115. 1209.  230.] prob: 0.998900294303894\n",
            "[422. 633. 460. 710.] prob: 0.9988663196563721\n",
            "[556. 383. 595. 479.] prob: 0.9987528324127197\n",
            "[230. 383. 268. 460.] prob: 0.9985135197639465\n",
            "[460. 383. 499. 479.] prob: 0.998502254486084\n",
            "[134. 633. 191. 710.] prob: 0.998497724533081\n",
            "[ 57. 364.  95. 460.] prob: 0.998446524143219\n",
            "[1055.  134. 1113.  230.] prob: 0.9981682300567627\n",
            "[ 38. 633.  95. 710.] prob: 0.998103141784668\n",
            "[422. 115. 460. 211.] prob: 0.9977712631225586\n",
            "[422. 383. 460. 479.] prob: 0.9973267316818237\n",
            "[518. 633. 556. 710.] prob: 0.996793806552887\n",
            "[172. 383. 230. 460.] prob: 0.9967443943023682\n",
            "[1017.  383. 1075.  479.] prob: 0.9958968162536621\n",
            "[191. 633. 230. 710.] prob: 0.9948592185974121\n",
            "[1209.  383. 1267.  479.] prob: 0.9941971302032471\n",
            "[ 76. 633. 115. 710.] prob: 0.9941502213478088\n",
            "[1113.  134. 1171.  230.] prob: 0.9941079616546631\n",
            "[326. 383. 364. 479.] prob: 0.9934712648391724\n",
            "[  0. 633.  38. 710.] prob: 0.9928678274154663\n",
            "[1209.  633. 1267.  710.] prob: 0.9927839040756226\n",
            "[134. 383. 172. 460.] prob: 0.9920644164085388\n",
            "[844. 115. 883. 211.] prob: 0.9918394088745117\n",
            "[595. 652. 652. 729.] prob: 0.9917097687721252\n",
            "[460. 115. 499. 211.] prob: 0.9914743900299072\n",
            "[921. 614. 979. 710.] prob: 0.9908889532089233\n",
            "[1017.  633. 1055.  710.] prob: 0.9906755685806274\n",
            "[806. 134. 844. 230.] prob: 0.9869891405105591\n",
            "[1171.  614. 1209.  710.] prob: 0.9841426014900208\n",
            "[ 57. 134. 115. 230.] prob: 0.9840564727783203\n",
            "[326. 115. 364. 211.] prob: 0.9824633598327637\n",
            "[1017.  134. 1055.  230.] prob: 0.9810022115707397\n",
            "[  0. 134.  57. 211.] prob: 0.9800077080726624\n",
            "[902. 383. 940. 479.] prob: 0.9793614745140076\n",
            "[883. 115. 940. 211.] prob: 0.9768469929695129\n",
            "[115. 134. 153. 230.] prob: 0.9758973717689514\n",
            "[748. 383. 787. 479.] prob: 0.9734159111976624\n",
            "[1209.  134. 1247.  230.] prob: 0.9723806381225586\n",
            "[326.   0. 403.  95.] prob: 0.9698763489723206\n",
            "[1075.  633. 1113.  710.] prob: 0.9690716862678528\n",
            "[ 95. 364. 134. 460.] prob: 0.9688818454742432\n",
            "[748. 633. 787. 729.] prob: 0.9673283696174622\n",
            "[230. 633. 268. 710.] prob: 0.9621720910072327\n",
            "[1113.  383. 1151.  479.] prob: 0.9615404605865479\n",
            "[268. 383. 326. 460.] prob: 0.9601582884788513\n",
            "[230.   0. 287.  76.] prob: 0.9559711813926697\n",
            "[614. 383. 652. 479.] prob: 0.94987553358078\n",
            "[1075.  383. 1113.  460.] prob: 0.9346776008605957\n",
            "[191. 134. 249. 230.] prob: 0.9260067343711853\n",
            "[710. 364. 748. 460.] prob: 0.9190418720245361\n",
            "[230. 134. 287. 230.] prob: 0.9163714647293091\n",
            "[499.   0. 556.  76.] prob: 0.8977715969085693\n",
            "[ 95.   0. 153.  95.] prob: 0.8889003992080688\n",
            "[806. 556. 844. 652.] prob: 0.8681108355522156\n",
            "[287.   0. 345.  76.] prob: 0.8635016679763794\n",
            "[ 979.  633. 1017.  710.] prob: 0.860396146774292\n",
            "[268. 614. 326. 710.] prob: 0.8533328771591187\n",
            "[1171.  383. 1209.  479.] prob: 0.8507490754127502\n",
            "[19.  0. 76. 95.] prob: 0.8334352970123291\n",
            "[1247.  134. 1267.  230.] prob: 0.8191893696784973\n",
            "[249. 115. 287. 191.] prob: 0.7002911567687988\n",
            "Elapsed time = 4.521670818328857\n",
            "result saved into  ./results_images/result.png\n"
          ],
          "name": "stdout"
        }
      ]
    }
  ]
}